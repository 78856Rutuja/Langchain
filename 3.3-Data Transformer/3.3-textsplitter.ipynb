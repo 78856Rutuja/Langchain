{
 "cells": [
  {
   "cell_type": "markdown",
   "metadata": {},
   "source": [
    "Text splitting from documents-RecursiveCharacter text splitters"
   ]
  },
  {
   "cell_type": "code",
   "execution_count": 10,
   "metadata": {},
   "outputs": [],
   "source": [
    "### This text splitter is the recommended one for generic text. \n",
    "# It is parameterized by a list of characters. \n",
    "# It tries to split on them in order until the chunks are small enough.\n",
    "# The default list is [\"\\n\\n\",\"\\n\",\" \",\"\"].\n",
    "#This has the effect of trying to keep all paragraphs (and then sentences,and then words) together as long as possible, \n",
    "# as those would generically seem to be the strongest semantically related pieces of text."
   ]
  },
  {
   "cell_type": "code",
   "execution_count": 11,
   "metadata": {},
   "outputs": [],
   "source": [
    "#how the text is split: by list of characters.\n",
    "#how the chunk size is measured: by number of characters"
   ]
  },
  {
   "cell_type": "code",
   "execution_count": 2,
   "metadata": {},
   "outputs": [
    {
     "data": {
      "text/plain": [
       "[Document(metadata={'source': 'resume22.pdf', 'page': 0}, page_content=\"Rutuja Barbande\\nrutujabarbande22@email.com\\nPhone no.:9766301079 www.linkedin.com/in/rutujabarbande\\nChatrpati Shambhajinager github.com/78856Rutuja\\nSummary\\nAs an Al and data analysis expert, I specialize in machine learning, natural language processing\\n(NLP), and data interpretation using Python. I have a solid background in python. My goal is to provide\\ninnovative solutions for important projects by applying my technical skills and eagerness to learn and\\ngrow. I'm skilled in machine learning algorithms, neural networks, deep learning, and NLP. I use tools\\nlike Pandas, Numpy, TensorFlow, Keras, PyTorch, and Scikit-Learn. I'm also proficient in data\\nprocessing, model evaluation, and feature engineering.\\nSkills\\n\\uf06c Programming language : Python, Java\\n\\uf06c Frameworks: Pandas, Numpy, TensorFlow, Keras, PyTorch\\n\\uf06c SQL\\n\\uf06c Deep learning\\n\\uf06c Machine learning\\n\\uf06c Data analysis and visualization\\n\\uf06c Natural Language processing\\nExperience\\nCompany Naskraft. Pvt ltd\\nIntern 2023\\nI have done 6 month internship after Engineering at Naskraft private limited , Chatrpati\\nShambhajinager.I have learn skills related to website development and android development.Developed\\nAndroid applications using Java within the Android Studio environment.\\nEducation\\n\\uf06c Center For Development of Advanced Computing, Pune\\nPost Graduate Diploma in Artificial Intelligence |75% 2024\\n\\uf06c Jawaharlal Nehru Engineering college\\nBachelor's Degree in Electronic and Telecommunication CGPA: 8.60 2023\\n\\uf06c MGM College of Polytechnic\\nDiploma in Electronic and Telecommunication|91% 2020\\n\\uf06c A.K. Waghmare High school\\nClass 10th | 80%\"),\n",
       " Document(metadata={'source': 'resume22.pdf', 'page': 1}, page_content='Projects\\n\\uf06c Code-Mixed Text Translation\\nIn this project, we created a translation system that can handle code-mixed text, focusing\\non translating Marathi into English. Code-mixed text combines words and phrases from\\ndifferent languages, making it challenging for traditional translation models. Our system uses\\nadvanced natural language processing (NLP) techniques to accurately detect and translate this\\nmixed language. By focusing on Marathi, which is widely spoken in India, we aim to meet the\\ngrowing need for effective translation tools in multilingual environments. Our goal is to\\ndevelop a reliable and efficient translation system that can be expanded to other Indic\\nlanguages, helping to overcome language barriers and improve communication in diverse\\nlinguistic settings.\\n\\uf06c Face Emotion Recognition\\nDeveloped a real-time emotion detection system utilizing a Convolutional Neural\\nNetwork (CNN) model. The system captures live video feed using a webcam and processes\\nthe input frames to detect facial expressions. It uses the OpenCV library to detect faces and pre\\nprocesses the the image data before feeding it into the trained CNN model. The model classifies\\nemotions into seven categories: angry, disgust, fear, happy, neutral, sad, and surprise. The\\nproject demonstrates a practical application of computer vision and deep learning for real-time\\nemotion analysis, offering potential uses in areas such as human-computer interaction.\\nLanguages known\\n\\uf06c English\\n\\uf06c Marathi\\n\\uf06c Hindi\\nHobbies\\n\\uf06c Swimming\\n\\uf06c Travel')]"
      ]
     },
     "execution_count": 2,
     "metadata": {},
     "output_type": "execute_result"
    }
   ],
   "source": [
    "## Reding a PDF File\n",
    "from langchain_community.document_loaders import PyPDFLoader\n",
    "loader=PyPDFLoader(\"resume22.pdf\")\n",
    "docs=loader.load()\n",
    "docs"
   ]
  },
  {
   "cell_type": "markdown",
   "metadata": {},
   "source": [
    "How to recursively split text by characters"
   ]
  },
  {
   "cell_type": "code",
   "execution_count": 3,
   "metadata": {},
   "outputs": [
    {
     "data": {
      "text/plain": [
       "[Document(metadata={'source': 'resume22.pdf', 'page': 0}, page_content='Rutuja Barbande\\nrutujabarbande22@email.com\\nPhone no.:9766301079 www.linkedin.com/in/rutujabarbande\\nChatrpati Shambhajinager github.com/78856Rutuja\\nSummary'),\n",
       " Document(metadata={'source': 'resume22.pdf', 'page': 0}, page_content='Summary\\nAs an Al and data analysis expert, I specialize in machine learning, natural language processing'),\n",
       " Document(metadata={'source': 'resume22.pdf', 'page': 0}, page_content='(NLP), and data interpretation using Python. I have a solid background in python. My goal is to provide'),\n",
       " Document(metadata={'source': 'resume22.pdf', 'page': 0}, page_content='innovative solutions for important projects by applying my technical skills and eagerness to learn and'),\n",
       " Document(metadata={'source': 'resume22.pdf', 'page': 0}, page_content=\"grow. I'm skilled in machine learning algorithms, neural networks, deep learning, and NLP. I use tools\\nlike Pandas, Numpy, TensorFlow, Keras, PyTorch, and Scikit-Learn. I'm also proficient in data\"),\n",
       " Document(metadata={'source': 'resume22.pdf', 'page': 0}, page_content='processing, model evaluation, and feature engineering.\\nSkills\\n\\uf06c Programming language : Python, Java\\n\\uf06c Frameworks: Pandas, Numpy, TensorFlow, Keras, PyTorch\\n\\uf06c SQL\\n\\uf06c Deep learning\\n\\uf06c Machine learning'),\n",
       " Document(metadata={'source': 'resume22.pdf', 'page': 0}, page_content='\\uf06c SQL\\n\\uf06c Deep learning\\n\\uf06c Machine learning\\n\\uf06c Data analysis and visualization\\n\\uf06c Natural Language processing\\nExperience\\nCompany Naskraft. Pvt ltd\\nIntern 2023'),\n",
       " Document(metadata={'source': 'resume22.pdf', 'page': 0}, page_content='Experience\\nCompany Naskraft. Pvt ltd\\nIntern 2023\\nI have done 6 month internship after Engineering at Naskraft private limited , Chatrpati'),\n",
       " Document(metadata={'source': 'resume22.pdf', 'page': 0}, page_content='Shambhajinager.I have learn skills related to website development and android development.Developed\\nAndroid applications using Java within the Android Studio environment.\\nEducation'),\n",
       " Document(metadata={'source': 'resume22.pdf', 'page': 0}, page_content='Education\\n\\uf06c Center For Development of Advanced Computing, Pune\\nPost Graduate Diploma in Artificial Intelligence |75% 2024\\n\\uf06c Jawaharlal Nehru Engineering college'),\n",
       " Document(metadata={'source': 'resume22.pdf', 'page': 0}, page_content=\"\\uf06c Jawaharlal Nehru Engineering college\\nBachelor's Degree in Electronic and Telecommunication CGPA: 8.60 2023\\n\\uf06c MGM College of Polytechnic\\nDiploma in Electronic and Telecommunication|91% 2020\"),\n",
       " Document(metadata={'source': 'resume22.pdf', 'page': 0}, page_content='\\uf06c A.K. Waghmare High school\\nClass 10th | 80%'),\n",
       " Document(metadata={'source': 'resume22.pdf', 'page': 1}, page_content='Projects\\n\\uf06c Code-Mixed Text Translation\\nIn this project, we created a translation system that can handle code-mixed text, focusing'),\n",
       " Document(metadata={'source': 'resume22.pdf', 'page': 1}, page_content='on translating Marathi into English. Code-mixed text combines words and phrases from\\ndifferent languages, making it challenging for traditional translation models. Our system uses'),\n",
       " Document(metadata={'source': 'resume22.pdf', 'page': 1}, page_content='advanced natural language processing (NLP) techniques to accurately detect and translate this\\nmixed language. By focusing on Marathi, which is widely spoken in India, we aim to meet the'),\n",
       " Document(metadata={'source': 'resume22.pdf', 'page': 1}, page_content='growing need for effective translation tools in multilingual environments. Our goal is to\\ndevelop a reliable and efficient translation system that can be expanded to other Indic'),\n",
       " Document(metadata={'source': 'resume22.pdf', 'page': 1}, page_content='languages, helping to overcome language barriers and improve communication in diverse\\nlinguistic settings.\\n\\uf06c Face Emotion Recognition'),\n",
       " Document(metadata={'source': 'resume22.pdf', 'page': 1}, page_content='linguistic settings.\\n\\uf06c Face Emotion Recognition\\nDeveloped a real-time emotion detection system utilizing a Convolutional Neural'),\n",
       " Document(metadata={'source': 'resume22.pdf', 'page': 1}, page_content='Network (CNN) model. The system captures live video feed using a webcam and processes\\nthe input frames to detect facial expressions. It uses the OpenCV library to detect faces and pre'),\n",
       " Document(metadata={'source': 'resume22.pdf', 'page': 1}, page_content='processes the the image data before feeding it into the trained CNN model. The model classifies\\nemotions into seven categories: angry, disgust, fear, happy, neutral, sad, and surprise. The'),\n",
       " Document(metadata={'source': 'resume22.pdf', 'page': 1}, page_content='project demonstrates a practical application of computer vision and deep learning for real-time\\nemotion analysis, offering potential uses in areas such as human-computer interaction.\\nLanguages known'),\n",
       " Document(metadata={'source': 'resume22.pdf', 'page': 1}, page_content='Languages known\\n\\uf06c English\\n\\uf06c Marathi\\n\\uf06c Hindi\\nHobbies\\n\\uf06c Swimming\\n\\uf06c Travel')]"
      ]
     },
     "execution_count": 3,
     "metadata": {},
     "output_type": "execute_result"
    }
   ],
   "source": [
    "from langchain_text_splitters import RecursiveCharacterTextSplitter\n",
    "text_splitter=RecursiveCharacterTextSplitter(chunk_size=200,chunk_overlap=50)\n",
    "final_documents=text_splitter.split_documents(docs)\n",
    "final_documents"
   ]
  },
  {
   "cell_type": "code",
   "execution_count": 4,
   "metadata": {},
   "outputs": [
    {
     "name": "stdout",
     "output_type": "stream",
     "text": [
      "page_content='Rutuja Barbande\n",
      "rutujabarbande22@email.com\n",
      "Phone no.:9766301079 www.linkedin.com/in/rutujabarbande\n",
      "Chatrpati Shambhajinager github.com/78856Rutuja\n",
      "Summary' metadata={'source': 'resume22.pdf', 'page': 0}\n",
      "page_content='Summary\n",
      "As an Al and data analysis expert, I specialize in machine learning, natural language processing' metadata={'source': 'resume22.pdf', 'page': 0}\n"
     ]
    }
   ],
   "source": [
    "print(final_documents[0])\n",
    "print(final_documents[1])"
   ]
  },
  {
   "cell_type": "code",
   "execution_count": 5,
   "metadata": {},
   "outputs": [
    {
     "data": {
      "text/plain": [
       "[Document(metadata={'source': 'speech.txt'}, page_content=\"A speech about life can cover a variety of topics, including how to live a meaningful life, how to react to challenges, and how to be grateful for what you have: \\nBe grateful: Life is a gift from God, and you should be grateful for the positive things in your life, like nature, family, and friends. \\nLive in the moment: Life is a continuous process that will end, so you should live each moment to the fullest. \\nBe kind: Kindness is followed by love, so you should always be kind to others. \\nDon't compare yourself to others: You are unique and important, so you shouldn't compare yourself to others. \\nReact to challenges: Challenges are part of life, and you should be ready to face them. \\nDon't take life for granted: You should respect life and cherish what you have. \\nLive a meaningful life: You should live a meaningful life and support others to do the same. \\nBe ready for death: Death is inevitable, but you shouldn't let it discourage you from living life to the fullest. \\n\")]"
      ]
     },
     "execution_count": 5,
     "metadata": {},
     "output_type": "execute_result"
    }
   ],
   "source": [
    "## text loader\n",
    "from langchain_community.document_loaders import TextLoader\n",
    "loader=TextLoader(\"speech.txt\")\n",
    "docs=loader.load()\n",
    "docs"
   ]
  },
  {
   "cell_type": "code",
   "execution_count": 6,
   "metadata": {},
   "outputs": [
    {
     "name": "stdout",
     "output_type": "stream",
     "text": [
      "page_content='A speech about life can cover a variety of topics, including how to live a meaningful life, how to'\n",
      "page_content='life, how to react to challenges, and how to be grateful for what you have:'\n"
     ]
    }
   ],
   "source": [
    "speech=\"\"\n",
    "with open(\"speech.txt\")as f:\n",
    "    speech=f.read()\n",
    "\n",
    "text_splitter=RecursiveCharacterTextSplitter(chunk_size=100,chunk_overlap=20)\n",
    "text=text_splitter.create_documents([speech])\n",
    "print(text[0])\n",
    "print(text[1])"
   ]
  },
  {
   "cell_type": "code",
   "execution_count": 7,
   "metadata": {},
   "outputs": [
    {
     "data": {
      "text/plain": [
       "langchain_core.documents.base.Document"
      ]
     },
     "execution_count": 7,
     "metadata": {},
     "output_type": "execute_result"
    }
   ],
   "source": [
    "type(text[0])"
   ]
  },
  {
   "cell_type": "code",
   "execution_count": null,
   "metadata": {},
   "outputs": [],
   "source": []
  },
  {
   "cell_type": "code",
   "execution_count": null,
   "metadata": {},
   "outputs": [],
   "source": []
  }
 ],
 "metadata": {
  "kernelspec": {
   "display_name": "TensorFlow Environment",
   "language": "python",
   "name": "testenv"
  },
  "language_info": {
   "codemirror_mode": {
    "name": "ipython",
    "version": 3
   },
   "file_extension": ".py",
   "mimetype": "text/x-python",
   "name": "python",
   "nbconvert_exporter": "python",
   "pygments_lexer": "ipython3",
   "version": "3.11.7"
  }
 },
 "nbformat": 4,
 "nbformat_minor": 2
}
