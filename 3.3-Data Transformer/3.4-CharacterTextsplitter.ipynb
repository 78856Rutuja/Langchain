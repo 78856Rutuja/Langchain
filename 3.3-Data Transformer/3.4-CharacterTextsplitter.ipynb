{
 "cells": [
  {
   "cell_type": "markdown",
   "metadata": {},
   "source": [
    "How to split by character-character text splitter"
   ]
  },
  {
   "cell_type": "code",
   "execution_count": null,
   "metadata": {},
   "outputs": [],
   "source": [
    "# This is the simplest method. \n",
    "# This splits based on a given character sequence, which default to \"\\n\\n\".\n",
    "# Chunk lenghth is measured by number of characters"
   ]
  },
  {
   "cell_type": "code",
   "execution_count": null,
   "metadata": {},
   "outputs": [],
   "source": [
    "#how the text is split: by single character separator.\n",
    "#how the chunk size is measured: by number of characters"
   ]
  },
  {
   "cell_type": "code",
   "execution_count": 3,
   "metadata": {},
   "outputs": [
    {
     "data": {
      "text/plain": [
       "[Document(metadata={'source': 'speech.txt'}, page_content=\"A speech about life can cover a variety of topics, including how to live a meaningful life, how to react to challenges, and how to be grateful for what you have: \\nBe grateful: Life is a gift from God, and you should be grateful for the positive things in your life, like nature, family, and friends. \\nLive in the moment: Life is a continuous process that will end, so you should live each moment to the fullest. \\nBe kind: Kindness is followed by love, so you should always be kind to others. \\nDon't compare yourself to others: You are unique and important, so you shouldn't compare yourself to others. \\nReact to challenges: Challenges are part of life, and you should be ready to face them. \\nDon't take life for granted: You should respect life and cherish what you have. \\nLive a meaningful life: You should live a meaningful life and support others to do the same. \\nBe ready for death: Death is inevitable, but you shouldn't let it discourage you from living life to the fullest. \\n\")]"
      ]
     },
     "execution_count": 3,
     "metadata": {},
     "output_type": "execute_result"
    }
   ],
   "source": [
    "## text loader\n",
    "from langchain_community.document_loaders import TextLoader\n",
    "loader=TextLoader(\"speech.txt\")\n",
    "docs=loader.load()\n",
    "docs"
   ]
  },
  {
   "cell_type": "code",
   "execution_count": 4,
   "metadata": {},
   "outputs": [
    {
     "data": {
      "text/plain": [
       "[Document(metadata={'source': 'speech.txt'}, page_content=\"A speech about life can cover a variety of topics, including how to live a meaningful life, how to react to challenges, and how to be grateful for what you have: \\nBe grateful: Life is a gift from God, and you should be grateful for the positive things in your life, like nature, family, and friends. \\nLive in the moment: Life is a continuous process that will end, so you should live each moment to the fullest. \\nBe kind: Kindness is followed by love, so you should always be kind to others. \\nDon't compare yourself to others: You are unique and important, so you shouldn't compare yourself to others. \\nReact to challenges: Challenges are part of life, and you should be ready to face them. \\nDon't take life for granted: You should respect life and cherish what you have. \\nLive a meaningful life: You should live a meaningful life and support others to do the same. \\nBe ready for death: Death is inevitable, but you shouldn't let it discourage you from living life to the fullest.\")]"
      ]
     },
     "execution_count": 4,
     "metadata": {},
     "output_type": "execute_result"
    }
   ],
   "source": [
    "from langchain_text_splitters import CharacterTextSplitter\n",
    "text_splitter=CharacterTextSplitter(separator=\"\\n\\n\",chunk_size=200,chunk_overlap=50)\n",
    "text_splitter.split_documents(docs)\n"
   ]
  },
  {
   "cell_type": "code",
   "execution_count": 6,
   "metadata": {},
   "outputs": [
    {
     "name": "stdout",
     "output_type": "stream",
     "text": [
      "page_content='A speech about life can cover a variety of topics, including how to live a meaningful life, how to react to challenges, and how to be grateful for what you have: \n",
      "Be grateful: Life is a gift from God, and you should be grateful for the positive things in your life, like nature, family, and friends. \n",
      "Live in the moment: Life is a continuous process that will end, so you should live each moment to the fullest. \n",
      "Be kind: Kindness is followed by love, so you should always be kind to others. \n",
      "Don't compare yourself to others: You are unique and important, so you shouldn't compare yourself to others. \n",
      "React to challenges: Challenges are part of life, and you should be ready to face them. \n",
      "Don't take life for granted: You should respect life and cherish what you have. \n",
      "Live a meaningful life: You should live a meaningful life and support others to do the same. \n",
      "Be ready for death: Death is inevitable, but you shouldn't let it discourage you from living life to the fullest.'\n"
     ]
    }
   ],
   "source": [
    "speech=\"\"\n",
    "with open(\"speech.txt\")as f:\n",
    "    speech=f.read()\n",
    "\n",
    "text_splitter=CharacterTextSplitter(chunk_size=100,chunk_overlap=20)\n",
    "text=text_splitter.create_documents([speech])\n",
    "print(text[0])\n"
   ]
  },
  {
   "cell_type": "code",
   "execution_count": null,
   "metadata": {},
   "outputs": [],
   "source": []
  }
 ],
 "metadata": {
  "kernelspec": {
   "display_name": "TensorFlow Environment",
   "language": "python",
   "name": "testenv"
  },
  "language_info": {
   "codemirror_mode": {
    "name": "ipython",
    "version": 3
   },
   "file_extension": ".py",
   "mimetype": "text/x-python",
   "name": "python",
   "nbconvert_exporter": "python",
   "pygments_lexer": "ipython3",
   "version": "3.11.7"
  }
 },
 "nbformat": 4,
 "nbformat_minor": 2
}
